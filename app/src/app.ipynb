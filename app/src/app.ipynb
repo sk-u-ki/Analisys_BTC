{
 "cells": [
  {
   "cell_type": "code",
   "execution_count": 1,
   "id": "a5a4ef7e",
   "metadata": {},
   "outputs": [],
   "source": [
    "\"\"\"\n",
    "ПОЛНЫЙ АНАЛИЗ КРИПТОАДОПЦИИ С ИСПРАВЛЕННЫМ ФОРМАТОМ ДАННЫХ (2010-2025)\n",
    "Включает все показатели из Analiza-1.xlsx и economy2.R\n",
    "Версия: 2025-05-23\n",
    "Изменения этой ревизии (v2):\n",
    "• Улучшена `optimize_int_columns()` – теперь игнорирует NaN и надёжнее\n",
    "  переводит «целые» float-столбцы в pandas-тип Int64.\n",
    "• Все вспомогательные DataFrame перед выгрузкой в Excel также проходят\n",
    "  оптимизацию, чтобы убрать хвост «.0» в листах статистики и корреляций.\n",
    "• Обновлены docstring и мелкие комментарии.\n",
    "\"\"\"\n",
    "\n",
    "import os\n",
    "import datetime as _dt\n",
    "import warnings\n",
    "from typing import Tuple, Dict, Any\n",
    "import plotly.graph_objects as go\n",
    "import plotly.express as px\n",
    "from plotly.subplots import make_subplots\n",
    "import matplotlib.pyplot as plt\n",
    "import numpy as np\n",
    "import pandas as pd\n",
    "from scipy import stats\n",
    "import argparse\n",
    "\n",
    "warnings.filterwarnings(\"ignore\")\n",
    "\n",
    "# ─────────────────────────── DISPLAY SETTINGS ────────────────────────────\n",
    "pd.options.display.float_format = lambda x: f\"{x:.0f}\" if pd.notna(x) and x % 1 == 0 else f\"{x:.2f}\"\n",
    "plt.rcParams[\"font.family\"] = [\"DejaVu Sans\"]  # поддержка кириллицы\n",
    "plt.rcParams[\"axes.unicode_minus\"] = False\n",
    "\n",
    "# ──────────────────────────── HELPER FUNCTIONS ───────────────────────────\n",
    "\n",
    "def optimize_int_columns(df: pd.DataFrame) -> pd.DataFrame:\n",
    "    \"\"\"Convert float columns whose non-NaN values are all integer-like to **Int64**.\n",
    "\n",
    "    Это устраняет паразитный хвост «.0» в Excel/CSV/Jupyter, сохранив\n",
    "    пропуски (nullable integer).\n",
    "    \"\"\"\n",
    "    float_cols = df.select_dtypes(include=\"float\").columns\n",
    "    for col in float_cols:\n",
    "        ser = df[col]\n",
    "        if ((ser.dropna() % 1) == 0).all():\n",
    "            df[col] = ser.astype(\"Int64\")\n",
    "    return df\n",
    "\n",
    "def create_project_structure() -> str:\n",
    "    base = os.path.dirname(__file__)\n",
    "    rel_path = \"2091/data.txt\"\n",
    "    abs_file_path = os.path.join(script_dir, rel_path)\n",
    "    for sub in (\"grafiki\", \"otchety\", \"dannye\", \"rezultaty\"):\n",
    "        os.makedirs(os.path.join(base, sub), exist_ok=True)\n",
    "        print(f\"✅ Создана папка: {os.path.join(base, sub)}\")\n",
    "    return base"
   ]
  },
  {
   "cell_type": "code",
   "execution_count": null,
   "id": "8de599d2",
   "metadata": {},
   "outputs": [],
   "source": [
    "def create_project_structure() -> str:\n",
    "    base = os.path.join(os.path.dirname(__file__), \"../../data/\")\n",
    "    for sub in (\"grafiki\", \"otchety\", \"dannye\", \"rezultaty\"):\n",
    "        os.makedirs(os.path.join(base, sub), exist_ok=True)\n",
    "        print(f\"✅ Создана папка: {os.path.join(base, sub)}\")\n",
    "    return base"
   ]
  },
  {
   "cell_type": "code",
   "execution_count": 1,
   "id": "a8e83e38",
   "metadata": {},
   "outputs": [],
   "source": [
    "from function import func"
   ]
  },
  {
   "cell_type": "code",
   "execution_count": 6,
   "id": "457770a6",
   "metadata": {},
   "outputs": [
    {
     "name": "stdout",
     "output_type": "stream",
     "text": [
      "✅ Создана папка: /Users/kirill/Desktop/analiza/app/src/function/../../data/grafiki\n",
      "✅ Создана папка: /Users/kirill/Desktop/analiza/app/src/function/../../data/otchety\n",
      "✅ Создана папка: /Users/kirill/Desktop/analiza/app/src/function/../../data/dannye\n",
      "✅ Создана папка: /Users/kirill/Desktop/analiza/app/src/function/../../data/rezultaty\n"
     ]
    }
   ],
   "source": [
    "base = func.create_project_structure()"
   ]
  },
  {
   "cell_type": "code",
   "execution_count": 13,
   "id": "f00f60e2",
   "metadata": {},
   "outputs": [],
   "source": [
    "import pandas as pd\n",
    "import os\n",
    "hdi_data = pd.read_csv(os.path.join(base, \"hdi_data.csv\"))"
   ]
  },
  {
   "cell_type": "code",
   "execution_count": 11,
   "id": "d4b9b5fc",
   "metadata": {},
   "outputs": [],
   "source": [
    "hdi_data = {\n",
    "        'Ukraine': [0.710, 0.720, 0.734, 0.734, 0.743, 0.743, 0.751, 0.751, 0.759, 0.759, 0.773, 0.773, 0.734, 0.734, 0.734, 0.734],\n",
    "        'Poland': [0.813, 0.813, 0.834, 0.834, 0.855, 0.855, 0.865, 0.865, 0.876, 0.876, 0.880, 0.880, 0.876, 0.876, 0.876, 0.876],\n",
    "        'Czech': [0.861, 0.861, 0.878, 0.878, 0.888, 0.888, 0.900, 0.900, 0.900, 0.900, 0.889, 0.889, 0.889, 0.889, 0.889, 0.889],\n",
    "        'Sweden': [0.885, 0.885, 0.907, 0.907, 0.933, 0.933, 0.937, 0.937, 0.945, 0.945, 0.947, 0.947, 0.947, 0.947, 0.947, 0.947],\n",
    "        'Norway': [0.938, 0.938, 0.944, 0.944, 0.949, 0.949, 0.953, 0.953, 0.957, 0.957, 0.961, 0.961, 0.961, 0.961, 0.961, 0.961],\n",
    "        'Belarus': [0.786, 0.786, 0.796, 0.796, 0.808, 0.808, 0.817, 0.817, 0.823, 0.823, 0.823, 0.823, 0.808, 0.808, 0.808, 0.808]\n",
    "    }"
   ]
  },
  {
   "cell_type": "code",
   "execution_count": 12,
   "id": "2ec4fa05",
   "metadata": {},
   "outputs": [
    {
     "name": "stdout",
     "output_type": "stream",
     "text": [
      "Ukraine\n",
      "[0.71, 0.72, 0.734, 0.734, 0.743, 0.743, 0.751, 0.751, 0.759, 0.759, 0.773, 0.773, 0.734, 0.734, 0.734, 0.734]\n",
      "hello\n",
      "Poland\n",
      "[0.813, 0.813, 0.834, 0.834, 0.855, 0.855, 0.865, 0.865, 0.876, 0.876, 0.88, 0.88, 0.876, 0.876, 0.876, 0.876]\n",
      "hello\n",
      "Czech\n",
      "[0.861, 0.861, 0.878, 0.878, 0.888, 0.888, 0.9, 0.9, 0.9, 0.9, 0.889, 0.889, 0.889, 0.889, 0.889, 0.889]\n",
      "hello\n",
      "Sweden\n",
      "[0.885, 0.885, 0.907, 0.907, 0.933, 0.933, 0.937, 0.937, 0.945, 0.945, 0.947, 0.947, 0.947, 0.947, 0.947, 0.947]\n",
      "hello\n",
      "Norway\n",
      "[0.938, 0.938, 0.944, 0.944, 0.949, 0.949, 0.953, 0.953, 0.957, 0.957, 0.961, 0.961, 0.961, 0.961, 0.961, 0.961]\n",
      "hello\n",
      "Belarus\n",
      "[0.786, 0.786, 0.796, 0.796, 0.808, 0.808, 0.817, 0.817, 0.823, 0.823, 0.823, 0.823, 0.808, 0.808, 0.808, 0.808]\n",
      "hello\n"
     ]
    }
   ],
   "source": [
    "for country_code, hdi_values in hdi_data.items():\n",
    "        print(country_code)\n",
    "        print(hdi_values)\n",
    "        print(\"hello\")"
   ]
  },
  {
   "cell_type": "code",
   "execution_count": 10,
   "id": "8a5e7041",
   "metadata": {},
   "outputs": [
    {
     "name": "stdout",
     "output_type": "stream",
     "text": [
      "Country\n",
      "0     Ukraine\n",
      "1     Ukraine\n",
      "2     Ukraine\n",
      "3     Ukraine\n",
      "4     Ukraine\n",
      "       ...   \n",
      "91    Belarus\n",
      "92    Belarus\n",
      "93    Belarus\n",
      "94    Belarus\n",
      "95    Belarus\n",
      "Name: Country, Length: 96, dtype: object\n",
      "hello\n",
      "Year\n",
      "0     2000\n",
      "1     2001\n",
      "2     2002\n",
      "3     2003\n",
      "4     2004\n",
      "      ... \n",
      "91    2011\n",
      "92    2012\n",
      "93    2013\n",
      "94    2014\n",
      "95    2015\n",
      "Name: Year, Length: 96, dtype: int64\n",
      "hello\n",
      "HDI\n",
      "0    0.71\n",
      "1    0.72\n",
      "2    0.73\n",
      "3    0.73\n",
      "4    0.74\n",
      "     ... \n",
      "91   0.82\n",
      "92   0.81\n",
      "93   0.81\n",
      "94   0.81\n",
      "95   0.81\n",
      "Name: HDI, Length: 96, dtype: float64\n",
      "hello\n"
     ]
    }
   ],
   "source": [
    "for country_code, hdi_values in hdi_data.items():\n",
    "        print(country_code)\n",
    "        print(hdi_values)\n",
    "        print(\"hello\")\n",
    "        #countries_data[country_code]['hdi'] = hdi_values"
   ]
  },
  {
   "cell_type": "code",
   "execution_count": null,
   "id": "8e1f7486",
   "metadata": {},
   "outputs": [],
   "source": []
  }
 ],
 "metadata": {
  "kernelspec": {
   "display_name": "Python 3",
   "language": "python",
   "name": "python3"
  },
  "language_info": {
   "codemirror_mode": {
    "name": "ipython",
    "version": 3
   },
   "file_extension": ".py",
   "mimetype": "text/x-python",
   "name": "python",
   "nbconvert_exporter": "python",
   "pygments_lexer": "ipython3",
   "version": "3.12.4"
  }
 },
 "nbformat": 4,
 "nbformat_minor": 5
}
